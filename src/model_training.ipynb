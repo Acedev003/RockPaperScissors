{
 "cells": [
  {
   "cell_type": "code",
   "execution_count": 8,
   "metadata": {},
   "outputs": [],
   "source": [
    "import numpy as np\n",
    "import pandas as pd\n",
    "import matplotlib.pyplot as plt\n",
    "import seaborn as sns\n",
    "import sklearn\n",
    "\n",
    "from sklearn.tree import _tree\n",
    "from sklearn.metrics import confusion_matrix\n",
    "from sklearn.model_selection import train_test_split\n",
    "from sklearn.ensemble import RandomForestClassifier\n",
    "from sklearn.model_selection import GridSearchCV"
   ]
  },
  {
   "cell_type": "code",
   "execution_count": 9,
   "metadata": {},
   "outputs": [],
   "source": [
    "DATA_PATH   = \"../data/rps_1694359904.9626915.csv\"\n",
    "RANDOM_SEED = 0\n",
    "TEST_SIZE   = 0.2\n",
    "MODEL_OUT   = \"../models/model.js\""
   ]
  },
  {
   "cell_type": "markdown",
   "metadata": {},
   "source": [
    "### Data Loading"
   ]
  },
  {
   "cell_type": "code",
   "execution_count": 10,
   "metadata": {},
   "outputs": [
    {
     "data": {
      "text/html": [
       "<div>\n",
       "<style scoped>\n",
       "    .dataframe tbody tr th:only-of-type {\n",
       "        vertical-align: middle;\n",
       "    }\n",
       "\n",
       "    .dataframe tbody tr th {\n",
       "        vertical-align: top;\n",
       "    }\n",
       "\n",
       "    .dataframe thead th {\n",
       "        text-align: right;\n",
       "    }\n",
       "</style>\n",
       "<table border=\"1\" class=\"dataframe\">\n",
       "  <thead>\n",
       "    <tr style=\"text-align: right;\">\n",
       "      <th></th>\n",
       "      <th>WRIST_X</th>\n",
       "      <th>WRIST_Y</th>\n",
       "      <th>THUMB_CMC_X</th>\n",
       "      <th>THUMB_CMC_Y</th>\n",
       "      <th>THUMB_MCP_X</th>\n",
       "      <th>THUMB_MCP_Y</th>\n",
       "      <th>THUMB_IP_X</th>\n",
       "      <th>THUMB_IP_Y</th>\n",
       "      <th>THUMB_TIP_X</th>\n",
       "      <th>THUMB_TIP_Y</th>\n",
       "      <th>...</th>\n",
       "      <th>RING_FINGER_TIP_Y</th>\n",
       "      <th>PINKY_MCP_X</th>\n",
       "      <th>PINKY_MCP_Y</th>\n",
       "      <th>PINKY_PIP_X</th>\n",
       "      <th>PINKY_PIP_Y</th>\n",
       "      <th>PINKY_DIP_X</th>\n",
       "      <th>PINKY_DIP_Y</th>\n",
       "      <th>PINKY_TIP_X</th>\n",
       "      <th>PINKY_TIP_Y</th>\n",
       "      <th>CLASS</th>\n",
       "    </tr>\n",
       "  </thead>\n",
       "  <tbody>\n",
       "    <tr>\n",
       "      <th>0</th>\n",
       "      <td>0.522535</td>\n",
       "      <td>0.584055</td>\n",
       "      <td>0.625936</td>\n",
       "      <td>0.580929</td>\n",
       "      <td>0.718496</td>\n",
       "      <td>0.526368</td>\n",
       "      <td>0.727261</td>\n",
       "      <td>0.450880</td>\n",
       "      <td>0.702420</td>\n",
       "      <td>0.407202</td>\n",
       "      <td>...</td>\n",
       "      <td>0.451068</td>\n",
       "      <td>0.524569</td>\n",
       "      <td>0.375544</td>\n",
       "      <td>0.566660</td>\n",
       "      <td>0.338999</td>\n",
       "      <td>0.550875</td>\n",
       "      <td>0.400552</td>\n",
       "      <td>0.533669</td>\n",
       "      <td>0.423864</td>\n",
       "      <td>0</td>\n",
       "    </tr>\n",
       "    <tr>\n",
       "      <th>1</th>\n",
       "      <td>0.522810</td>\n",
       "      <td>0.581773</td>\n",
       "      <td>0.625333</td>\n",
       "      <td>0.581156</td>\n",
       "      <td>0.717528</td>\n",
       "      <td>0.528407</td>\n",
       "      <td>0.730288</td>\n",
       "      <td>0.454104</td>\n",
       "      <td>0.713798</td>\n",
       "      <td>0.408834</td>\n",
       "      <td>...</td>\n",
       "      <td>0.448014</td>\n",
       "      <td>0.523502</td>\n",
       "      <td>0.376928</td>\n",
       "      <td>0.564864</td>\n",
       "      <td>0.340199</td>\n",
       "      <td>0.549492</td>\n",
       "      <td>0.401110</td>\n",
       "      <td>0.531896</td>\n",
       "      <td>0.420952</td>\n",
       "      <td>0</td>\n",
       "    </tr>\n",
       "    <tr>\n",
       "      <th>2</th>\n",
       "      <td>0.523001</td>\n",
       "      <td>0.582668</td>\n",
       "      <td>0.624563</td>\n",
       "      <td>0.580880</td>\n",
       "      <td>0.716532</td>\n",
       "      <td>0.527002</td>\n",
       "      <td>0.724324</td>\n",
       "      <td>0.452666</td>\n",
       "      <td>0.699354</td>\n",
       "      <td>0.410737</td>\n",
       "      <td>...</td>\n",
       "      <td>0.447512</td>\n",
       "      <td>0.523334</td>\n",
       "      <td>0.378884</td>\n",
       "      <td>0.564633</td>\n",
       "      <td>0.339105</td>\n",
       "      <td>0.550132</td>\n",
       "      <td>0.400343</td>\n",
       "      <td>0.532758</td>\n",
       "      <td>0.421779</td>\n",
       "      <td>0</td>\n",
       "    </tr>\n",
       "    <tr>\n",
       "      <th>3</th>\n",
       "      <td>0.523001</td>\n",
       "      <td>0.582668</td>\n",
       "      <td>0.624563</td>\n",
       "      <td>0.580880</td>\n",
       "      <td>0.716532</td>\n",
       "      <td>0.527002</td>\n",
       "      <td>0.724324</td>\n",
       "      <td>0.452666</td>\n",
       "      <td>0.699354</td>\n",
       "      <td>0.410737</td>\n",
       "      <td>...</td>\n",
       "      <td>0.447512</td>\n",
       "      <td>0.523334</td>\n",
       "      <td>0.378884</td>\n",
       "      <td>0.564633</td>\n",
       "      <td>0.339105</td>\n",
       "      <td>0.550132</td>\n",
       "      <td>0.400343</td>\n",
       "      <td>0.532758</td>\n",
       "      <td>0.421779</td>\n",
       "      <td>0</td>\n",
       "    </tr>\n",
       "    <tr>\n",
       "      <th>4</th>\n",
       "      <td>0.522727</td>\n",
       "      <td>0.578590</td>\n",
       "      <td>0.624897</td>\n",
       "      <td>0.577490</td>\n",
       "      <td>0.716129</td>\n",
       "      <td>0.524396</td>\n",
       "      <td>0.725709</td>\n",
       "      <td>0.449820</td>\n",
       "      <td>0.704026</td>\n",
       "      <td>0.404276</td>\n",
       "      <td>...</td>\n",
       "      <td>0.448760</td>\n",
       "      <td>0.523509</td>\n",
       "      <td>0.373285</td>\n",
       "      <td>0.567279</td>\n",
       "      <td>0.339910</td>\n",
       "      <td>0.549760</td>\n",
       "      <td>0.399989</td>\n",
       "      <td>0.530882</td>\n",
       "      <td>0.419607</td>\n",
       "      <td>0</td>\n",
       "    </tr>\n",
       "  </tbody>\n",
       "</table>\n",
       "<p>5 rows × 43 columns</p>\n",
       "</div>"
      ],
      "text/plain": [
       "    WRIST_X   WRIST_Y  THUMB_CMC_X  THUMB_CMC_Y  THUMB_MCP_X  THUMB_MCP_Y  \\\n",
       "0  0.522535  0.584055     0.625936     0.580929     0.718496     0.526368   \n",
       "1  0.522810  0.581773     0.625333     0.581156     0.717528     0.528407   \n",
       "2  0.523001  0.582668     0.624563     0.580880     0.716532     0.527002   \n",
       "3  0.523001  0.582668     0.624563     0.580880     0.716532     0.527002   \n",
       "4  0.522727  0.578590     0.624897     0.577490     0.716129     0.524396   \n",
       "\n",
       "   THUMB_IP_X  THUMB_IP_Y  THUMB_TIP_X  THUMB_TIP_Y  ...  RING_FINGER_TIP_Y  \\\n",
       "0    0.727261    0.450880     0.702420     0.407202  ...           0.451068   \n",
       "1    0.730288    0.454104     0.713798     0.408834  ...           0.448014   \n",
       "2    0.724324    0.452666     0.699354     0.410737  ...           0.447512   \n",
       "3    0.724324    0.452666     0.699354     0.410737  ...           0.447512   \n",
       "4    0.725709    0.449820     0.704026     0.404276  ...           0.448760   \n",
       "\n",
       "   PINKY_MCP_X  PINKY_MCP_Y  PINKY_PIP_X  PINKY_PIP_Y  PINKY_DIP_X  \\\n",
       "0     0.524569     0.375544     0.566660     0.338999     0.550875   \n",
       "1     0.523502     0.376928     0.564864     0.340199     0.549492   \n",
       "2     0.523334     0.378884     0.564633     0.339105     0.550132   \n",
       "3     0.523334     0.378884     0.564633     0.339105     0.550132   \n",
       "4     0.523509     0.373285     0.567279     0.339910     0.549760   \n",
       "\n",
       "   PINKY_DIP_Y  PINKY_TIP_X  PINKY_TIP_Y  CLASS  \n",
       "0     0.400552     0.533669     0.423864      0  \n",
       "1     0.401110     0.531896     0.420952      0  \n",
       "2     0.400343     0.532758     0.421779      0  \n",
       "3     0.400343     0.532758     0.421779      0  \n",
       "4     0.399989     0.530882     0.419607      0  \n",
       "\n",
       "[5 rows x 43 columns]"
      ]
     },
     "execution_count": 10,
     "metadata": {},
     "output_type": "execute_result"
    }
   ],
   "source": [
    "df = pd.read_csv(DATA_PATH)\n",
    "df.head()"
   ]
  },
  {
   "cell_type": "code",
   "execution_count": 11,
   "metadata": {},
   "outputs": [],
   "source": [
    "x = df.drop(\"CLASS\",axis=1)\n",
    "y = df[\"CLASS\"]\n",
    "\n",
    "xtrain,xtest,ytrain,ytest = train_test_split(x,y,test_size=TEST_SIZE,random_state=RANDOM_SEED)"
   ]
  },
  {
   "cell_type": "markdown",
   "metadata": {},
   "source": [
    "### Model Selection"
   ]
  },
  {
   "cell_type": "code",
   "execution_count": 113,
   "metadata": {},
   "outputs": [
    {
     "name": "stdout",
     "output_type": "stream",
     "text": [
      "{'max_depth': 16, 'n_estimators': 100}\n"
     ]
    }
   ],
   "source": [
    "rfc = RandomForestClassifier(random_state=RANDOM_SEED)\n",
    "parameters = {\n",
    "                \"n_estimators\":[100,250,500,1000],\n",
    "                \"max_depth\"   :[8,16,32,None]\n",
    "             }\n",
    "\n",
    "cv = GridSearchCV(rfc,parameters,cv=5)\n",
    "cv.fit(xtrain,ytrain)\n",
    "\n",
    "print(cv.best_params_)"
   ]
  },
  {
   "cell_type": "markdown",
   "metadata": {},
   "source": [
    "### Model Training"
   ]
  },
  {
   "cell_type": "code",
   "execution_count": 12,
   "metadata": {},
   "outputs": [],
   "source": [
    "model = RandomForestClassifier(random_state=RANDOM_SEED,n_estimators=100,max_depth=16).fit(xtrain, ytrain)"
   ]
  },
  {
   "cell_type": "code",
   "execution_count": 14,
   "metadata": {},
   "outputs": [
    {
     "data": {
      "text/plain": [
       "array([[237,   0,   0],\n",
       "       [  0, 186,   1],\n",
       "       [  0,   1, 175]])"
      ]
     },
     "execution_count": 14,
     "metadata": {},
     "output_type": "execute_result"
    }
   ],
   "source": [
    "y_pred      = model.predict(xtest)\n",
    "conf_matrix = confusion_matrix(ytest,y_pred,labels=[0,1,2])\n",
    "conf_matrix"
   ]
  },
  {
   "cell_type": "markdown",
   "metadata": {},
   "source": [
    "### Model Exporting to JS"
   ]
  },
  {
   "cell_type": "code",
   "execution_count": 24,
   "metadata": {},
   "outputs": [],
   "source": [
    "def write(string,append=True,end=\"\\n\"):\n",
    "    string = str(string) + end\n",
    "    if append:\n",
    "        with open(MODEL_OUT,'a') as file:\n",
    "            file.write(string)\n",
    "    else:\n",
    "        with open(MODEL_OUT,'a') as file:\n",
    "            file.write(\"\")\n",
    "        with open(MODEL_OUT,'w') as file:\n",
    "            file.write(string)\n",
    "            \n",
    "\n",
    "\n",
    "def decode_dt_tojs(dt:'sklearn.tree.DecisionTreeClassifier',in_features:list[str],func_name:str):\n",
    "    write(f\"let {func_name} = ({','.join(in_features)}) =>\",end=\"\")\n",
    "    write(\"{\")\n",
    "    \n",
    "    tree_ = dt.tree_\n",
    "    in_features = [\n",
    "        in_features[i] if i != _tree.TREE_UNDEFINED else \"undefined!\"\n",
    "        for i in tree_.feature\n",
    "    ]\n",
    "    \n",
    "    def recurse(node, depth):\n",
    "        indent = \"  \" * depth\n",
    "        if tree_.feature[node] != _tree.TREE_UNDEFINED:\n",
    "            name = in_features[node]\n",
    "            threshold = tree_.threshold[node]\n",
    "            write (\"{}if ({} <= {})\".format(indent, name, threshold)+\"{\")\n",
    "            recurse(tree_.children_left[node], depth + 1)\n",
    "            write(\"{}\".format(indent)+\"}\")\n",
    "            write (\"{}else\".format(indent)+\"{\")\n",
    "            recurse(tree_.children_right[node], depth + 1)\n",
    "            write(\"{}\".format(indent)+\"}\")\n",
    "        else:\n",
    "            write (\"{}return {};\".format(indent, np.argmax(tree_.value[node])))\n",
    "    from sklearn.tree import DecisionTreeClassifier\n",
    "    \n",
    "    recurse(0, 1)\n",
    "    \n",
    "    write(\"};\")\n",
    "    write(\"\")\n",
    "\n",
    "\n",
    "def export_rfc_tojs(rfc:'sklearn.ensemble.RandomForestClassifier',func_template:str):\n",
    "    dt_list      = []\n",
    "    estimators   = rfc.estimators_\n",
    "    n_estimators = len(estimators)\n",
    "    feat_names   = list(rfc.feature_names_in_)\n",
    "    \n",
    "    print(f\" - Found {n_estimators} estimators\")\n",
    "    print(f\" - Input {len(feat_names)} Features : {feat_names}\")\n",
    "    print(\"\\n-----------\\n\")\n",
    "    \n",
    "    write(\"\",False)\n",
    "    \n",
    "    for i,estimator in enumerate(estimators):\n",
    "        decode_dt_tojs(estimator,feat_names,f\"{func_template}{i}\")\n",
    "    \n",
    "    write(f\"let predict_rps = (\",end=\"\")\n",
    "    for i,feature in enumerate(feat_names):\n",
    "        if i == len(feat_names)-1:\n",
    "            write(feature,end=\"\")\n",
    "        else:    \n",
    "            write(feature,end=\",\")\n",
    "    write(\") =>{\")\n",
    "    write(\"    let results = [];\")\n",
    "    write(\"    let map = { };\")\n",
    "    write(f\"    let model = [{','.join([f'{func_template}{i}' for i in range(n_estimators)])}];\")\n",
    "    write(\"    model.forEach(x => { results.push(x(\" + \",\".join(feat_names) + \"))});\")\n",
    "    write(\"    results.forEach( x => { if (map[x] != undefined) {map[x] += 1}else{map[x] = 1}});\")\n",
    "    write(\"    if (map[0] > map[1]){if (map[0] > map[2]){return 0;}else{return 2;}}else {if (map[1] > map[2]){return 1;}else{return 2;}}\")\n",
    "    write(\"};\")\n",
    "    print(\"Model saved as :\", MODEL_OUT)    "
   ]
  },
  {
   "cell_type": "code",
   "execution_count": 25,
   "metadata": {},
   "outputs": [
    {
     "name": "stdout",
     "output_type": "stream",
     "text": [
      " - Found 100 estimators\n",
      " - Input 42 Features : ['WRIST_X', 'WRIST_Y', 'THUMB_CMC_X', 'THUMB_CMC_Y', 'THUMB_MCP_X', 'THUMB_MCP_Y', 'THUMB_IP_X', 'THUMB_IP_Y', 'THUMB_TIP_X', 'THUMB_TIP_Y', 'INDEX_FINGER_MCP_X', 'INDEX_FINGER_MCP_Y', 'INDEX_FINGER_PIP_X', 'INDEX_FINGER_PIP_Y', 'INDEX_FINGER_DIP_X', 'INDEX_FINGER_DIP_Y', 'INDEX_FINGER_TIP_X', 'INDEX_FINGER_TIP_Y', 'MIDDLE_FINGER_MCP_X', 'MIDDLE_FINGER_MCP_Y', 'MIDDLE_FINGER_PIP_X', 'MIDDLE_FINGER_PIP_Y', 'MIDDLE_FINGER_DIP_X', 'MIDDLE_FINGER_DIP_Y', 'MIDDLE_FINGER_TIP_X', 'MIDDLE_FINGER_TIP_Y', 'RING_FINGER_MCP_X', 'RING_FINGER_MCP_Y', 'RING_FINGER_PIP_X', 'RING_FINGER_PIP_Y', 'RING_FINGER_DIP_X', 'RING_FINGER_DIP_Y', 'RING_FINGER_TIP_X', 'RING_FINGER_TIP_Y', 'PINKY_MCP_X', 'PINKY_MCP_Y', 'PINKY_PIP_X', 'PINKY_PIP_Y', 'PINKY_DIP_X', 'PINKY_DIP_Y', 'PINKY_TIP_X', 'PINKY_TIP_Y']\n",
      "\n",
      "-----------\n",
      "\n",
      "Model saved as : ../models/model.js\n"
     ]
    }
   ],
   "source": [
    "export_rfc_tojs(model,\"dt\")"
   ]
  },
  {
   "cell_type": "markdown",
   "metadata": {},
   "source": [
    "### Removing unecessary newlines and indents"
   ]
  },
  {
   "cell_type": "code",
   "execution_count": 26,
   "metadata": {},
   "outputs": [],
   "source": [
    "text = \"\"\n",
    "with open(MODEL_OUT,'r') as file:\n",
    "    text = \"\".join(  [ line.strip() for line in file.readlines() ] )\n",
    "\n",
    "with open(MODEL_OUT,'w') as file:\n",
    "    file.write(text)"
   ]
  }
 ],
 "metadata": {
  "kernelspec": {
   "display_name": "env",
   "language": "python",
   "name": "python3"
  },
  "language_info": {
   "codemirror_mode": {
    "name": "ipython",
    "version": 3
   },
   "file_extension": ".py",
   "mimetype": "text/x-python",
   "name": "python",
   "nbconvert_exporter": "python",
   "pygments_lexer": "ipython3",
   "version": "3.10.12"
  },
  "orig_nbformat": 4
 },
 "nbformat": 4,
 "nbformat_minor": 2
}
